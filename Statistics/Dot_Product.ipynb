{
 "cells": [
  {
   "cell_type": "markdown",
   "id": "84958a6a-39ab-4d8c-8d9e-be7b63fb0a62",
   "metadata": {},
   "source": [
    "### Python Code for Dot Products"
   ]
  },
  {
   "cell_type": "code",
   "execution_count": 1,
   "id": "b25164a4-fe7a-41bf-b896-f187040e0d89",
   "metadata": {},
   "outputs": [],
   "source": [
    "def dot_products(x,y):\n",
    "    return sum(i*j for i,j in zip(x,y,strict = True))"
   ]
  },
  {
   "cell_type": "code",
   "execution_count": 2,
   "id": "2d5cc032-00d6-42b1-b9db-04732d2d6255",
   "metadata": {},
   "outputs": [
    {
     "data": {
      "text/plain": [
       "5"
      ]
     },
     "execution_count": 2,
     "metadata": {},
     "output_type": "execute_result"
    }
   ],
   "source": [
    "dot_products([3,2,6],[1,7,-2])"
   ]
  },
  {
   "cell_type": "code",
   "execution_count": null,
   "id": "5bcdf793-9e6e-4fc8-8366-8122f072bdd9",
   "metadata": {},
   "outputs": [],
   "source": []
  }
 ],
 "metadata": {
  "kernelspec": {
   "display_name": "Python 3 (ipykernel)",
   "language": "python",
   "name": "python3"
  },
  "language_info": {
   "codemirror_mode": {
    "name": "ipython",
    "version": 3
   },
   "file_extension": ".py",
   "mimetype": "text/x-python",
   "name": "python",
   "nbconvert_exporter": "python",
   "pygments_lexer": "ipython3",
   "version": "3.11.5"
  }
 },
 "nbformat": 4,
 "nbformat_minor": 5
}
