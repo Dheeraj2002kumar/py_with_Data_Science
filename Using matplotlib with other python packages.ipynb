{
 "cells": [
  {
   "cell_type": "markdown",
   "id": "7b8f0c85-2094-4711-ae0d-8a92f0b7104a",
   "metadata": {},
   "source": [
    "### Using matplotlib with other python packages"
   ]
  },
  {
   "cell_type": "markdown",
   "id": "c1ef35b4-c395-48ce-afa2-29b5126ccc07",
   "metadata": {},
   "source": [
    "How to use matplotlib. In combination other python packages."
   ]
  },
  {
   "cell_type": "code",
   "execution_count": 1,
   "id": "d9f34681-495e-41d4-abe1-4ccbe14a418f",
   "metadata": {},
   "outputs": [],
   "source": [
    "# let's import the library's and then load the data set.\n",
    "import pandas as pd\n",
    "import matplotlib.pyplot as plt\n",
    "import seaborn as sns\n",
    "%matplotlib inline"
   ]
  },
  {
   "cell_type": "code",
   "execution_count": 3,
   "id": "72eee55a-3af8-4b25-b9f8-9d871eb2cfd1",
   "metadata": {},
   "outputs": [],
   "source": [
    "df = pd.read_csv('HousePrices.csv', index_col = ['date'], parse_dates = True)\n",
    "df.sort_index(inplace = True)"
   ]
  },
  {
   "cell_type": "code",
   "execution_count": 4,
   "id": "3c0f40a6-2ed4-48fe-8ef5-766ae761fc7c",
   "metadata": {},
   "outputs": [
    {
     "data": {
      "text/html": [
       "<div>\n",
       "<style scoped>\n",
       "    .dataframe tbody tr th:only-of-type {\n",
       "        vertical-align: middle;\n",
       "    }\n",
       "\n",
       "    .dataframe tbody tr th {\n",
       "        vertical-align: top;\n",
       "    }\n",
       "\n",
       "    .dataframe thead th {\n",
       "        text-align: right;\n",
       "    }\n",
       "</style>\n",
       "<table border=\"1\" class=\"dataframe\">\n",
       "  <thead>\n",
       "    <tr style=\"text-align: right;\">\n",
       "      <th></th>\n",
       "      <th>price</th>\n",
       "      <th>bedrooms</th>\n",
       "      <th>bathrooms</th>\n",
       "      <th>sqft_living</th>\n",
       "      <th>sqft_lot</th>\n",
       "      <th>floors</th>\n",
       "      <th>waterfront</th>\n",
       "      <th>view</th>\n",
       "      <th>condition</th>\n",
       "      <th>sqft_above</th>\n",
       "      <th>sqft_basement</th>\n",
       "      <th>yr_built</th>\n",
       "      <th>yr_renovated</th>\n",
       "      <th>street</th>\n",
       "      <th>city</th>\n",
       "      <th>statezip</th>\n",
       "      <th>country</th>\n",
       "    </tr>\n",
       "    <tr>\n",
       "      <th>date</th>\n",
       "      <th></th>\n",
       "      <th></th>\n",
       "      <th></th>\n",
       "      <th></th>\n",
       "      <th></th>\n",
       "      <th></th>\n",
       "      <th></th>\n",
       "      <th></th>\n",
       "      <th></th>\n",
       "      <th></th>\n",
       "      <th></th>\n",
       "      <th></th>\n",
       "      <th></th>\n",
       "      <th></th>\n",
       "      <th></th>\n",
       "      <th></th>\n",
       "      <th></th>\n",
       "    </tr>\n",
       "  </thead>\n",
       "  <tbody>\n",
       "    <tr>\n",
       "      <th>2014-05-02</th>\n",
       "      <td>313000.0</td>\n",
       "      <td>3.0</td>\n",
       "      <td>1.5</td>\n",
       "      <td>1340</td>\n",
       "      <td>7912</td>\n",
       "      <td>1.5</td>\n",
       "      <td>0</td>\n",
       "      <td>0</td>\n",
       "      <td>3</td>\n",
       "      <td>1340</td>\n",
       "      <td>0</td>\n",
       "      <td>1955</td>\n",
       "      <td>2005</td>\n",
       "      <td>18810 Densmore Ave N</td>\n",
       "      <td>Shoreline</td>\n",
       "      <td>WA 98133</td>\n",
       "      <td>USA</td>\n",
       "    </tr>\n",
       "    <tr>\n",
       "      <th>2014-05-02</th>\n",
       "      <td>440000.0</td>\n",
       "      <td>2.0</td>\n",
       "      <td>1.0</td>\n",
       "      <td>800</td>\n",
       "      <td>4850</td>\n",
       "      <td>1.0</td>\n",
       "      <td>0</td>\n",
       "      <td>0</td>\n",
       "      <td>4</td>\n",
       "      <td>800</td>\n",
       "      <td>0</td>\n",
       "      <td>1944</td>\n",
       "      <td>0</td>\n",
       "      <td>4801-4899 6th Ave NW</td>\n",
       "      <td>Seattle</td>\n",
       "      <td>WA 98107</td>\n",
       "      <td>USA</td>\n",
       "    </tr>\n",
       "    <tr>\n",
       "      <th>2014-05-02</th>\n",
       "      <td>287200.0</td>\n",
       "      <td>3.0</td>\n",
       "      <td>3.0</td>\n",
       "      <td>1850</td>\n",
       "      <td>19966</td>\n",
       "      <td>1.0</td>\n",
       "      <td>0</td>\n",
       "      <td>0</td>\n",
       "      <td>4</td>\n",
       "      <td>1090</td>\n",
       "      <td>760</td>\n",
       "      <td>1992</td>\n",
       "      <td>0</td>\n",
       "      <td>23017 SE 281st Ct</td>\n",
       "      <td>Maple Valley</td>\n",
       "      <td>WA 98038</td>\n",
       "      <td>USA</td>\n",
       "    </tr>\n",
       "    <tr>\n",
       "      <th>2014-05-02</th>\n",
       "      <td>403000.0</td>\n",
       "      <td>3.0</td>\n",
       "      <td>2.0</td>\n",
       "      <td>1960</td>\n",
       "      <td>13100</td>\n",
       "      <td>1.0</td>\n",
       "      <td>0</td>\n",
       "      <td>2</td>\n",
       "      <td>5</td>\n",
       "      <td>1650</td>\n",
       "      <td>310</td>\n",
       "      <td>1957</td>\n",
       "      <td>0</td>\n",
       "      <td>17825 4th Ave SW</td>\n",
       "      <td>Normandy Park</td>\n",
       "      <td>WA 98166</td>\n",
       "      <td>USA</td>\n",
       "    </tr>\n",
       "    <tr>\n",
       "      <th>2014-05-02</th>\n",
       "      <td>750000.0</td>\n",
       "      <td>3.0</td>\n",
       "      <td>2.5</td>\n",
       "      <td>2390</td>\n",
       "      <td>6550</td>\n",
       "      <td>1.0</td>\n",
       "      <td>0</td>\n",
       "      <td>2</td>\n",
       "      <td>4</td>\n",
       "      <td>1440</td>\n",
       "      <td>950</td>\n",
       "      <td>1955</td>\n",
       "      <td>2009</td>\n",
       "      <td>3628 59th Ave SW</td>\n",
       "      <td>Seattle</td>\n",
       "      <td>WA 98116</td>\n",
       "      <td>USA</td>\n",
       "    </tr>\n",
       "  </tbody>\n",
       "</table>\n",
       "</div>"
      ],
      "text/plain": [
       "               price  bedrooms  bathrooms  sqft_living  sqft_lot  floors  \\\n",
       "date                                                                       \n",
       "2014-05-02  313000.0       3.0        1.5         1340      7912     1.5   \n",
       "2014-05-02  440000.0       2.0        1.0          800      4850     1.0   \n",
       "2014-05-02  287200.0       3.0        3.0         1850     19966     1.0   \n",
       "2014-05-02  403000.0       3.0        2.0         1960     13100     1.0   \n",
       "2014-05-02  750000.0       3.0        2.5         2390      6550     1.0   \n",
       "\n",
       "            waterfront  view  condition  sqft_above  sqft_basement  yr_built  \\\n",
       "date                                                                           \n",
       "2014-05-02           0     0          3        1340              0      1955   \n",
       "2014-05-02           0     0          4         800              0      1944   \n",
       "2014-05-02           0     0          4        1090            760      1992   \n",
       "2014-05-02           0     2          5        1650            310      1957   \n",
       "2014-05-02           0     2          4        1440            950      1955   \n",
       "\n",
       "            yr_renovated                street           city  statezip  \\\n",
       "date                                                                      \n",
       "2014-05-02          2005  18810 Densmore Ave N      Shoreline  WA 98133   \n",
       "2014-05-02             0  4801-4899 6th Ave NW        Seattle  WA 98107   \n",
       "2014-05-02             0     23017 SE 281st Ct   Maple Valley  WA 98038   \n",
       "2014-05-02             0      17825 4th Ave SW  Normandy Park  WA 98166   \n",
       "2014-05-02          2009      3628 59th Ave SW        Seattle  WA 98116   \n",
       "\n",
       "           country  \n",
       "date                \n",
       "2014-05-02     USA  \n",
       "2014-05-02     USA  \n",
       "2014-05-02     USA  \n",
       "2014-05-02     USA  \n",
       "2014-05-02     USA  "
      ]
     },
     "execution_count": 4,
     "metadata": {},
     "output_type": "execute_result"
    }
   ],
   "source": [
    "df.head()"
   ]
  },
  {
   "cell_type": "markdown",
   "id": "e104bf96-3407-4294-90b1-5ea6636a3368",
   "metadata": {},
   "source": [
    "**Let's add some figure properties and then plot a box plot using Seaborn**"
   ]
  },
  {
   "cell_type": "code",
   "execution_count": 5,
   "id": "20a5fe34-5b73-463a-b096-0e64320686b6",
   "metadata": {},
   "outputs": [
    {
     "data": {
      "text/plain": [
       "<Axes: title={'center': 'Box Plot Using Seaborn'}, xlabel='price'>"
      ]
     },
     "execution_count": 5,
     "metadata": {},
     "output_type": "execute_result"
    },
    {
     "data": {
      "image/png": "[encoded data removed]",
      "text/plain": [
       "<Figure size 700x700 with 1 Axes>"
      ]
     },
     "metadata": {},
     "output_type": "display_data"
    }
   ],
   "source": [
    "plt.figure(figsize=(7,7), dpi = 100)\n",
    "plt.title('Box Plot Using Seaborn')\n",
    "sns.boxplot(data = df, x = 'price')"
   ]
  },
  {
   "cell_type": "markdown",
   "id": "ebd58e7a-6f4a-41b8-9eea-cc57055bbc76",
   "metadata": {},
   "source": [
    "As you can see, this is box plot. plotted using Seaborne."
   ]
  },
  {
   "cell_type": "code",
   "execution_count": null,
   "id": "7acf04f7-16e8-48ff-b020-b3fba7db30d1",
   "metadata": {},
   "outputs": [],
   "source": []
  }
 ],
 "metadata": {
  "kernelspec": {
   "display_name": "Python 3 (ipykernel)",
   "language": "python",
   "name": "python3"
  },
  "language_info": {
   "codemirror_mode": {
    "name": "ipython",
    "version": 3
   },
   "file_extension": ".py",
   "mimetype": "text/x-python",
   "name": "python",
   "nbconvert_exporter": "python",
   "pygments_lexer": "ipython3",
   "version": "3.11.5"
  }
 },
 "nbformat": 4,
 "nbformat_minor": 5
}
