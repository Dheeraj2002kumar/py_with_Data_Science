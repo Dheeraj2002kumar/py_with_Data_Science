{
 "cells": [
  {
   "cell_type": "markdown",
   "id": "735cb763-e859-4e5e-85c6-340fa10b92f7",
   "metadata": {},
   "source": [
    "### Pyhton implementation for Scaler multiplication"
   ]
  },
  {
   "cell_type": "code",
   "execution_count": 13,
   "id": "33a6a3c3-df1d-4016-943f-5010c1891b39",
   "metadata": {},
   "outputs": [],
   "source": [
    "def scaler_multiplication(c,X):\n",
    "    cX = X\n",
    "    for i in range(len(X)):\n",
    "        for j in range(len(X[0])):\n",
    "            cX[i][j] = c*cX[i][j]\n",
    "        return cX"
   ]
  },
  {
   "cell_type": "code",
   "execution_count": 14,
   "id": "4f51c518-9f82-4371-9447-9258c703f949",
   "metadata": {},
   "outputs": [
    {
     "data": {
      "text/plain": [
       "[[-6, -18, 3], [2, 8, 0], [9, 8, 7]]"
      ]
     },
     "execution_count": 14,
     "metadata": {},
     "output_type": "execute_result"
    }
   ],
   "source": [
    "scaler_multiplication(-3,[[2,6,-1],[2,8,0],[9,8,7]])"
   ]
  },
  {
   "cell_type": "code",
   "execution_count": null,
   "id": "b64aa1ee-03c8-4ce9-b1f6-18cbe5516cf6",
   "metadata": {},
   "outputs": [],
   "source": []
  }
 ],
 "metadata": {
  "kernelspec": {
   "display_name": "Python 3 (ipykernel)",
   "language": "python",
   "name": "python3"
  },
  "language_info": {
   "codemirror_mode": {
    "name": "ipython",
    "version": 3
   },
   "file_extension": ".py",
   "mimetype": "text/x-python",
   "name": "python",
   "nbconvert_exporter": "python",
   "pygments_lexer": "ipython3",
   "version": "3.11.5"
  }
 },
 "nbformat": 4,
 "nbformat_minor": 5
}
