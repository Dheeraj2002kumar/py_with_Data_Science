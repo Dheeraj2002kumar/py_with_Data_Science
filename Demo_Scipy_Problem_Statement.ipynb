{
 "cells": [
  {
   "cell_type": "markdown",
   "id": "04815902-463e-4105-a1e7-504b8a536198",
   "metadata": {},
   "source": [
    "<h1>Demo: Scipy</h1>"
   ]
  },
  {
   "cell_type": "markdown",
   "id": "a608a63f-f13a-4ac7-9349-4f1de5718e8a",
   "metadata": {},
   "source": [
    "<h1><u><b>Problem Statement</b></u></h1><br>\n",
    "Import the package linagl from the Scipy library and use the solve method to solve the provided linear equation to find the value of x and y."
   ]
  },
  {
   "cell_type": "code",
   "execution_count": 3,
   "id": "00f4f383-b775-484a-8d64-a01978a16b83",
   "metadata": {},
   "outputs": [],
   "source": [
    "# import required library numpy and scipy linear algebra\n",
    "import numpy as np\n",
    "from scipy import linalg"
   ]
  },
  {
   "cell_type": "code",
   "execution_count": 5,
   "id": "08c1374c-349c-4170-bb80-0b1b367661ae",
   "metadata": {},
   "outputs": [],
   "source": [
    "# Test has 30 Question and worth 150 marks\n",
    "# True and false Questions worth 4 marks each \n",
    "# multiple choise Questions worth 9 point each \n",
    "\n",
    "# let's x is a number of true/ false question \n",
    "# let y is the number of multiple choise question \n",
    "\n",
    "# (x + y = 30)\n",
    "# (4x + 9y = 150)\n",
    "\n",
    "# let's create two numpy array, one for the variable and another for value.\n",
    "testQuestionVariable = np.array([[1,1],[4,9]])\n",
    "testQuestionValue = np.array([30,150])"
   ]
  },
  {
   "cell_type": "code",
   "execution_count": 6,
   "id": "773948c8-0dac-4d2f-986b-69713d1210fc",
   "metadata": {},
   "outputs": [
    {
     "data": {
      "text/plain": [
       "array([24.,  6.])"
      ]
     },
     "execution_count": 6,
     "metadata": {},
     "output_type": "execute_result"
    }
   ],
   "source": [
    "# use linaln function SciPy \n",
    "# use solve method to solve the linear equation value for x and y\n",
    "linalg.solve(testQuestionVariable,testQuestionValue)"
   ]
  },
  {
   "cell_type": "code",
   "execution_count": null,
   "id": "0ff959fd-9718-41df-b260-ac5a6cc45357",
   "metadata": {},
   "outputs": [],
   "source": [
    "Here we can see "
   ]
  }
 ],
 "metadata": {
  "kernelspec": {
   "display_name": "Python 3 (ipykernel)",
   "language": "python",
   "name": "python3"
  },
  "language_info": {
   "codemirror_mode": {
    "name": "ipython",
    "version": 3
   },
   "file_extension": ".py",
   "mimetype": "text/x-python",
   "name": "python",
   "nbconvert_exporter": "python",
   "pygments_lexer": "ipython3",
   "version": "3.11.5"
  }
 },
 "nbformat": 4,
 "nbformat_minor": 5
}
